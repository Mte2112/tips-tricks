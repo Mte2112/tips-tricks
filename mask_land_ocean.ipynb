{
 "cells": [
  {
   "cell_type": "markdown",
   "id": "ac0416f8-ff8e-464a-ad05-4b46b991003f",
   "metadata": {},
   "source": [
    "# Create land mask"
   ]
  },
  {
   "cell_type": "code",
   "execution_count": null,
   "id": "7019f591-3e86-44d4-b4e5-20104f4301c6",
   "metadata": {},
   "outputs": [],
   "source": [
    "#https://pypi.org/project/global-land-mask\n",
    "pip install global_land_mask"
   ]
  },
  {
   "cell_type": "code",
   "execution_count": 2,
   "id": "cc2166a0-bb37-40e1-956e-518ad8b8ed39",
   "metadata": {},
   "outputs": [],
   "source": [
    "import xarray as xr\n",
    "import numpy as np"
   ]
  },
  {
   "cell_type": "code",
   "execution_count": 2,
   "id": "60f015da-5d3b-4e8f-ba7a-fbefb554e9a8",
   "metadata": {},
   "outputs": [],
   "source": [
    "# import dataset\n",
    "ds = xr.open_dataset('/path/to/file.nc')"
   ]
  },
  {
   "cell_type": "code",
   "execution_count": 121,
   "id": "122db115-45e0-4a35-839d-320c023632c9",
   "metadata": {},
   "outputs": [],
   "source": [
    "# Create landmask\n",
    "from global_land_mask import globe"
   ]
  },
  {
   "cell_type": "markdown",
   "id": "eff2686c-75b6-465b-a677-87c9b01b8f55",
   "metadata": {},
   "source": [
    "### Land"
   ]
  },
  {
   "cell_type": "code",
   "execution_count": 4,
   "id": "1ee5294a-4788-479c-910b-a771ff9c867b",
   "metadata": {},
   "outputs": [
    {
     "ename": "NameError",
     "evalue": "name 'np' is not defined",
     "output_type": "error",
     "traceback": [
      "\u001b[0;31m---------------------------------------------------------------------------\u001b[0m",
      "\u001b[0;31mNameError\u001b[0m                                 Traceback (most recent call last)",
      "\u001b[0;32m/var/folders/1_/gnsqr7790fq32zgn60w4xy6m0000gp/T/ipykernel_60259/3930532263.py\u001b[0m in \u001b[0;36m<module>\u001b[0;34m\u001b[0m\n\u001b[1;32m      1\u001b[0m \u001b[0;31m# create mask\u001b[0m\u001b[0;34m\u001b[0m\u001b[0;34m\u001b[0m\u001b[0;34m\u001b[0m\u001b[0m\n\u001b[0;32m----> 2\u001b[0;31m \u001b[0mlon_grid\u001b[0m\u001b[0;34m,\u001b[0m \u001b[0mlat_grid\u001b[0m \u001b[0;34m=\u001b[0m \u001b[0mnp\u001b[0m\u001b[0;34m.\u001b[0m\u001b[0mmeshgrid\u001b[0m\u001b[0;34m(\u001b[0m\u001b[0mds\u001b[0m\u001b[0;34m[\u001b[0m\u001b[0;34m'lon'\u001b[0m\u001b[0;34m]\u001b[0m\u001b[0;34m,\u001b[0m \u001b[0mds\u001b[0m\u001b[0;34m[\u001b[0m\u001b[0;34m'lat'\u001b[0m\u001b[0;34m]\u001b[0m\u001b[0;34m)\u001b[0m\u001b[0;34m\u001b[0m\u001b[0;34m\u001b[0m\u001b[0m\n\u001b[0m\u001b[1;32m      3\u001b[0m \u001b[0mlandmask\u001b[0m \u001b[0;34m=\u001b[0m \u001b[0mglobe\u001b[0m\u001b[0;34m.\u001b[0m\u001b[0mis_land\u001b[0m\u001b[0;34m(\u001b[0m\u001b[0mlat_grid\u001b[0m\u001b[0;34m,\u001b[0m\u001b[0mlon_grid\u001b[0m\u001b[0;34m)\u001b[0m\u001b[0;34m\u001b[0m\u001b[0;34m\u001b[0m\u001b[0m\n",
      "\u001b[0;31mNameError\u001b[0m: name 'np' is not defined"
     ]
    }
   ],
   "source": [
    "# create mask\n",
    "lon_grid, lat_grid = np.meshgrid(ds['lon'], ds['lat'])\n",
    "landmask = globe.is_land(lat_grid,lon_grid)"
   ]
  },
  {
   "cell_type": "code",
   "execution_count": 3,
   "id": "8259d724-97f8-443c-83a8-97cb65800564",
   "metadata": {},
   "outputs": [
    {
     "ename": "NameError",
     "evalue": "name 'ds' is not defined",
     "output_type": "error",
     "traceback": [
      "\u001b[0;31m---------------------------------------------------------------------------\u001b[0m",
      "\u001b[0;31mNameError\u001b[0m                                 Traceback (most recent call last)",
      "\u001b[0;32m/var/folders/1_/gnsqr7790fq32zgn60w4xy6m0000gp/T/ipykernel_60259/1725490772.py\u001b[0m in \u001b[0;36m<module>\u001b[0;34m\u001b[0m\n\u001b[1;32m      1\u001b[0m \u001b[0;31m# will plot just land values\u001b[0m\u001b[0;34m\u001b[0m\u001b[0;34m\u001b[0m\u001b[0;34m\u001b[0m\u001b[0m\n\u001b[0;32m----> 2\u001b[0;31m \u001b[0mds\u001b[0m\u001b[0;34m.\u001b[0m\u001b[0mvariable\u001b[0m\u001b[0;34m.\u001b[0m\u001b[0mwhere\u001b[0m\u001b[0;34m(\u001b[0m\u001b[0mlandmask\u001b[0m\u001b[0;34m)\u001b[0m\u001b[0;34m.\u001b[0m\u001b[0mplot\u001b[0m\u001b[0;34m(\u001b[0m\u001b[0;34m)\u001b[0m\u001b[0;34m\u001b[0m\u001b[0;34m\u001b[0m\u001b[0m\n\u001b[0m",
      "\u001b[0;31mNameError\u001b[0m: name 'ds' is not defined"
     ]
    }
   ],
   "source": [
    "# will plot just land values\n",
    "ds.variable.where(landmask).plot()"
   ]
  },
  {
   "cell_type": "markdown",
   "id": "79d8a82c-58bd-4f5b-b3e7-40a5d11a57ce",
   "metadata": {},
   "source": [
    "### OCEAN"
   ]
  },
  {
   "cell_type": "code",
   "execution_count": 1,
   "id": "347998aa-6e0d-49d6-9583-9c81f8bd0a30",
   "metadata": {},
   "outputs": [
    {
     "ename": "NameError",
     "evalue": "name 'np' is not defined",
     "output_type": "error",
     "traceback": [
      "\u001b[0;31m---------------------------------------------------------------------------\u001b[0m",
      "\u001b[0;31mNameError\u001b[0m                                 Traceback (most recent call last)",
      "\u001b[0;32m/var/folders/1_/gnsqr7790fq32zgn60w4xy6m0000gp/T/ipykernel_46726/3142240525.py\u001b[0m in \u001b[0;36m<module>\u001b[0;34m\u001b[0m\n\u001b[1;32m      1\u001b[0m \u001b[0;31m# create mask\u001b[0m\u001b[0;34m\u001b[0m\u001b[0;34m\u001b[0m\u001b[0;34m\u001b[0m\u001b[0m\n\u001b[0;32m----> 2\u001b[0;31m \u001b[0mlon_grid\u001b[0m\u001b[0;34m,\u001b[0m \u001b[0mlat_grid\u001b[0m \u001b[0;34m=\u001b[0m \u001b[0mnp\u001b[0m\u001b[0;34m.\u001b[0m\u001b[0mmeshgrid\u001b[0m\u001b[0;34m(\u001b[0m\u001b[0mds\u001b[0m\u001b[0;34m[\u001b[0m\u001b[0;34m'lon'\u001b[0m\u001b[0;34m]\u001b[0m\u001b[0;34m,\u001b[0m \u001b[0mds\u001b[0m\u001b[0;34m[\u001b[0m\u001b[0;34m'lat'\u001b[0m\u001b[0;34m]\u001b[0m\u001b[0;34m)\u001b[0m\u001b[0;34m\u001b[0m\u001b[0;34m\u001b[0m\u001b[0m\n\u001b[0m\u001b[1;32m      3\u001b[0m \u001b[0moceanmask\u001b[0m \u001b[0;34m=\u001b[0m \u001b[0mglobe\u001b[0m\u001b[0;34m.\u001b[0m\u001b[0mis_ocean\u001b[0m\u001b[0;34m(\u001b[0m\u001b[0mlat_grid\u001b[0m\u001b[0;34m,\u001b[0m\u001b[0mlon_grid\u001b[0m\u001b[0;34m)\u001b[0m\u001b[0;34m\u001b[0m\u001b[0;34m\u001b[0m\u001b[0m\n",
      "\u001b[0;31mNameError\u001b[0m: name 'np' is not defined"
     ]
    }
   ],
   "source": [
    "# create mask\n",
    "lon_grid, lat_grid = np.meshgrid(ds['lon'], ds['lat'])\n",
    "oceanmask = globe.is_ocean(lat_grid,lon_grid)"
   ]
  },
  {
   "cell_type": "code",
   "execution_count": null,
   "id": "2d62d165-cb20-4a4d-b1d3-1f3915decbac",
   "metadata": {},
   "outputs": [],
   "source": [
    "# will plot just land values\n",
    "ds.variable.where(oceanmask).plot()"
   ]
  }
 ],
 "metadata": {
  "kernelspec": {
   "display_name": "Python 3 (ipykernel)",
   "language": "python",
   "name": "python3"
  },
  "language_info": {
   "codemirror_mode": {
    "name": "ipython",
    "version": 3
   },
   "file_extension": ".py",
   "mimetype": "text/x-python",
   "name": "python",
   "nbconvert_exporter": "python",
   "pygments_lexer": "ipython3",
   "version": "3.8.11"
  }
 },
 "nbformat": 4,
 "nbformat_minor": 5
}
