{
 "cells": [
  {
   "cell_type": "code",
   "execution_count": 1,
   "id": "b65871d5-9f0d-43bf-a465-c1f00839c95a",
   "metadata": {},
   "outputs": [],
   "source": [
    "import xarray as xr"
   ]
  },
  {
   "cell_type": "code",
   "execution_count": null,
   "id": "8565a1fb-8398-48ab-b3fd-4c0be35d840e",
   "metadata": {},
   "outputs": [],
   "source": [
    "# Adjust lon values to make sure they are within (-180, 180)\n",
    "# Allows for easier plotting and compatibility with certain packages\n",
    "lon = 'lon'\n",
    "ds['_longitude_adjusted'] = xr.where(\n",
    "    ds[lon] > 180,\n",
    "    ds[lon] - 360,\n",
    "    ds[lon])\n",
    "\n",
    "# reassign the new coords to as the main lon coords\n",
    "# and sort DataArray using new coordinate values\n",
    "ds = (\n",
    "    ds\n",
    "    .swap_dims({lon: '_longitude_adjusted'})\n",
    "    .sel(**{'_longitude_adjusted': sorted(ds._longitude_adjusted)})\n",
    "    .drop(lon))\n",
    "\n",
    "ds = ds.rename({'_longitude_adjusted': lon})"
   ]
  }
 ],
 "metadata": {
  "kernelspec": {
   "display_name": "Python 3 (ipykernel)",
   "language": "python",
   "name": "python3"
  },
  "language_info": {
   "codemirror_mode": {
    "name": "ipython",
    "version": 3
   },
   "file_extension": ".py",
   "mimetype": "text/x-python",
   "name": "python",
   "nbconvert_exporter": "python",
   "pygments_lexer": "ipython3",
   "version": "3.8.11"
  }
 },
 "nbformat": 4,
 "nbformat_minor": 5
}
