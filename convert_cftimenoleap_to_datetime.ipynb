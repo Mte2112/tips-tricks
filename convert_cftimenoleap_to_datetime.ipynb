{
 "cells": [
  {
   "cell_type": "code",
   "execution_count": 1,
   "id": "2e3459da-b401-4fc3-80a7-112e0d4bf94a",
   "metadata": {},
   "outputs": [],
   "source": [
    "import xarray as xr\n",
    "import datetime"
   ]
  },
  {
   "cell_type": "code",
   "execution_count": null,
   "id": "55503ca1-d0c0-444b-b542-676719a888a1",
   "metadata": {},
   "outputs": [],
   "source": [
    "ds = xr.open_dataset('path/to/file.nc')\n",
    "ds['time'] = ds.indexes['time'].to_datetimeindex()"
   ]
  }
 ],
 "metadata": {
  "kernelspec": {
   "display_name": "Python 3 (ipykernel)",
   "language": "python",
   "name": "python3"
  },
  "language_info": {
   "codemirror_mode": {
    "name": "ipython",
    "version": 3
   },
   "file_extension": ".py",
   "mimetype": "text/x-python",
   "name": "python",
   "nbconvert_exporter": "python",
   "pygments_lexer": "ipython3",
   "version": "3.8.11"
  }
 },
 "nbformat": 4,
 "nbformat_minor": 5
}
