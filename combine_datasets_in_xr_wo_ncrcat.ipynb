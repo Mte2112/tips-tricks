{
 "cells": [
  {
   "cell_type": "code",
   "execution_count": null,
   "id": "51412b41-e479-4793-8139-179c0f2a8e9a",
   "metadata": {},
   "outputs": [],
   "source": [
    "# You can use the very nice MFDataset feature in netCDF4 to treat a bunch of files as one aggregated file, without the need to use ncrcat. So you code would look like this:\n",
    "from pylab import *\n",
    "import netCDF4\n",
    "\n",
    "f = netCDF4.MFDataset('/usgs/data2/rsignell/models/ncep/narr/air.2m.19??.nc')\n",
    "# print variables\n",
    "f.variables.keys()\n",
    "\n",
    "atemp = f.variables['air']\n",
    "print atemp\n",
    "\n",
    "ntimes, ny, nx = shape(atemp)\n",
    "cold_days = zeros((ny,nx),dtype=int)\n",
    "\n",
    "for i in xrange(ntimes):\n",
    "    cold_days += atemp[i,:,:].data-273.15 < 0\n",
    "\n",
    "pcolormesh(cold_days)\n",
    "colorbar()"
   ]
  }
 ],
 "metadata": {
  "kernelspec": {
   "display_name": "Python 3",
   "language": "python",
   "name": "python3"
  },
  "language_info": {
   "codemirror_mode": {
    "name": "ipython",
    "version": 3
   },
   "file_extension": ".py",
   "mimetype": "text/x-python",
   "name": "python",
   "nbconvert_exporter": "python",
   "pygments_lexer": "ipython3",
   "version": "3.8.8"
  }
 },
 "nbformat": 4,
 "nbformat_minor": 5
}
