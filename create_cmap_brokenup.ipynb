{
 "cells": [
  {
   "cell_type": "markdown",
   "id": "36bbc865-4378-4c65-a55c-fdb09db1a032",
   "metadata": {},
   "source": [
    "### Create custom cmap broken up"
   ]
  },
  {
   "cell_type": "code",
   "execution_count": 1,
   "id": "12734082-8429-41bc-bd85-996ac4c5436f",
   "metadata": {},
   "outputs": [],
   "source": [
    "# make cmap\n",
    "def custom_div_cmap(numcolors=11, name='custom_div_cmap',\n",
    "                    mincol='blue', midcol='white', maxcol='red'):\n",
    "    \"\"\" Create a custom diverging colormap with three colors\n",
    "    \n",
    "    Default is blue to white to red with 11 colors.  Colors can be specified\n",
    "    in any way understandable by matplotlib.colors.ColorConverter.to_rgb()\n",
    "    \"\"\"\n",
    "\n",
    "    from matplotlib.colors import LinearSegmentedColormap \n",
    "    \n",
    "    cmap = LinearSegmentedColormap.from_list(name=name, \n",
    "                                             colors =[mincol, midcol, maxcol],\n",
    "                                             N=numcolors)\n",
    "    return cmap"
   ]
  },
  {
   "cell_type": "code",
   "execution_count": 3,
   "id": "3ac8fd55-85c6-4bb1-b412-ab18024ae91a",
   "metadata": {},
   "outputs": [],
   "source": [
    "# midcol is white when == 1\n",
    "# first number is how many boxes for cmap. want to be odd for diverging with white in middle\n",
    "custom_map = custom_div_cmap(11, mincol='CornflowerBlue', midcol='1' ,maxcol='r')"
   ]
  },
  {
   "cell_type": "markdown",
   "id": "07228b50-e82d-427f-b175-e394d508d588",
   "metadata": {},
   "source": [
    "#### can also do it with many cols"
   ]
  },
  {
   "cell_type": "code",
   "execution_count": null,
   "id": "6ea1a650-ef80-418c-beb2-6858a0b88284",
   "metadata": {},
   "outputs": [],
   "source": [
    "# make cmap\n",
    "def custom_div_cmap(numcolors=11, name='custom_div_cmap',\n",
    "                    mincol='blue', lowcol='y', midcol='white', highcol='orange', maxcol='red'):\n",
    "    \"\"\" Create a custom diverging colormap with three colors\n",
    "    \n",
    "    Default is blue to white to red with 11 colors.  Colors can be specified\n",
    "    in any way understandable by matplotlib.colors.ColorConverter.to_rgb()\n",
    "    \"\"\"\n",
    "\n",
    "    from matplotlib.colors import LinearSegmentedColormap \n",
    "    \n",
    "    cmap = LinearSegmentedColormap.from_list(name=name, \n",
    "                                             colors =[mincol,lowcol, midcol, highcol, maxcol],\n",
    "                                             N=numcolors)\n",
    "    return cmap"
   ]
  },
  {
   "cell_type": "code",
   "execution_count": null,
   "id": "40092f4f-b2b8-42cd-adb2-ea843588fa85",
   "metadata": {},
   "outputs": [],
   "source": [
    "# see lowcol and highcol added. look at cell above--> added in function def and colors = \n",
    "custom_map = custom_div_cmap(11, mincol='r', lowcol='orange', midcol='1', highcol = 'g', maxcol='navy')"
   ]
  }
 ],
 "metadata": {
  "kernelspec": {
   "display_name": "Python 3 (ipykernel)",
   "language": "python",
   "name": "python3"
  },
  "language_info": {
   "codemirror_mode": {
    "name": "ipython",
    "version": 3
   },
   "file_extension": ".py",
   "mimetype": "text/x-python",
   "name": "python",
   "nbconvert_exporter": "python",
   "pygments_lexer": "ipython3",
   "version": "3.8.11"
  }
 },
 "nbformat": 4,
 "nbformat_minor": 5
}
