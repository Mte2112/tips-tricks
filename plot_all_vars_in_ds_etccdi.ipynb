{
 "cells": [
  {
   "cell_type": "markdown",
   "id": "de0eaf88-dfe0-486e-be95-82e289bb394d",
   "metadata": {
    "tags": []
   },
   "source": [
    "## plot all variables at once"
   ]
  },
  {
   "cell_type": "code",
   "execution_count": 1,
   "id": "ab705d73-04e4-4b70-9a9a-b34ae206969e",
   "metadata": {},
   "outputs": [],
   "source": [
    "import xarray as xr\n",
    "import numpy as np\n",
    "import pandas as pd"
   ]
  },
  {
   "cell_type": "code",
   "execution_count": null,
   "id": "68ada567-088c-49fa-83e9-24ffbe87055b",
   "metadata": {},
   "outputs": [],
   "source": [
    "fig, axes = plt.subplots(nrows=31, ncols=1, figsize = (30, 500))\n",
    "plt.subplots_adjust(hspace = 0.3)\n",
    "central_lon = 0\n",
    "\n",
    "axes = []\n",
    "for a in np.arange(1,32,1):\n",
    "    ax = 'ax' + str(a)\n",
    "    axes.append(ax)\n",
    "axes = np.asarray(axes)   \n",
    "\n",
    "vararray = []\n",
    "for var in delta.data_vars:\n",
    "    vararray.append(var) \n",
    "vararray = np.asarray(vararray)\n",
    "    \n",
    "for axn in axes:\n",
    "    locals()[axn] = plt.subplot(31, 1, axes.tolist().index(axn)+1, projection=ccrs.PlateCarree(central_lon))\n",
    "    locals()[axn].gridlines(crs=ccrs.PlateCarree(), draw_labels=True, linestyle='--')\n",
    "    for var in vararray:\n",
    "        if axn == str('ax' + str(vararray.tolist().index(var))):\n",
    "            delta[var].plot(cmap='bwr', transform = ccrs.PlateCarree())\n",
    "            plt.title(var.split('ETCCDI')[0], fontsize = 15)\n",
    "            locals()[axn].coastlines();\n",
    "            locals()[axn].set_aspect('auto')"
   ]
  }
 ],
 "metadata": {
  "kernelspec": {
   "display_name": "Python 3 (ipykernel)",
   "language": "python",
   "name": "python3"
  },
  "language_info": {
   "codemirror_mode": {
    "name": "ipython",
    "version": 3
   },
   "file_extension": ".py",
   "mimetype": "text/x-python",
   "name": "python",
   "nbconvert_exporter": "python",
   "pygments_lexer": "ipython3",
   "version": "3.8.11"
  }
 },
 "nbformat": 4,
 "nbformat_minor": 5
}
