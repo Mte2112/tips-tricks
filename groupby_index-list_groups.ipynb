{
 "cells": [
  {
   "cell_type": "code",
   "execution_count": null,
   "id": "d88f622a-39bc-4c36-9cd9-af0c4291615e",
   "metadata": {},
   "outputs": [],
   "source": [
    "# listing the groups of groupby object to maybe loop over a slice of the groups\n",
    "ds.groupby('coords').groups"
   ]
  },
  {
   "cell_type": "code",
   "execution_count": null,
   "id": "e3d3346a-7354-4b92-b136-5222db30fe5d",
   "metadata": {},
   "outputs": [],
   "source": [
    "# looping over groups\n",
    "for name, group in ds.groupby('coords'):\n",
    "    print(group)"
   ]
  }
 ],
 "metadata": {
  "kernelspec": {
   "display_name": "Python 3",
   "language": "python",
   "name": "python3"
  },
  "language_info": {
   "codemirror_mode": {
    "name": "ipython",
    "version": 3
   },
   "file_extension": ".py",
   "mimetype": "text/x-python",
   "name": "python",
   "nbconvert_exporter": "python",
   "pygments_lexer": "ipython3",
   "version": "3.8.8"
  }
 },
 "nbformat": 4,
 "nbformat_minor": 5
}
